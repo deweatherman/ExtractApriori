{
 "cells": [
  {
   "cell_type": "code",
   "execution_count": null,
   "id": "f4b0f60a",
   "metadata": {},
   "outputs": [],
   "source": [
    "import sys\n",
    "import os\n",
    "\n",
    "import xarray as xr\n",
    "\n",
    "import cf_xarray as cfxr\n",
    "import xesmf as xe\n",
    "\n",
    "import numpy as np\n",
    "import pandas as pd\n",
    "import matplotlib.pyplot as plt\n",
    "import matplotlib.ticker as mticker\n",
    "import seaborn as sns\n",
    "import cartopy\n",
    "import cartopy.crs as ccrs\n",
    "from cartopy.mpl.gridliner import LONGITUDE_FORMATTER, LATITUDE_FORMATTER\n",
    "import pyproj\n",
    "import pyresample\n",
    "from pyresample import create_area_def, load_area, data_reduce, utils, AreaDefinition\n",
    "from pyresample.geometry import SwathDefinition\n",
    "from pyresample.kd_tree import resample_nearest, resample_gauss \n",
    "\n",
    "from sklearn import svm\n",
    "from sklearn.linear_model import SGDOneClassSVM\n",
    "from sklearn.model_selection import train_test_split\n",
    "from sklearn.kernel_approximation import Nystroem\n",
    "from sklearn.pipeline import make_pipeline\n",
    "\n",
    "\n",
    "%matplotlib inline\n",
    "#%matplotlib notebook\n"
   ]
  },
  {
   "cell_type": "code",
   "execution_count": null,
   "id": "cec9d3d7",
   "metadata": {},
   "outputs": [],
   "source": [
    "os.environ[\"MALLOC_TRIM_THRESHOLD_\"] = \"0\"#\"65536\"\n",
    "\n",
    "from dask.distributed import Client, progress, LocalCluster\n",
    "\n",
    "cluster = LocalCluster()\n",
    "client = Client(cluster)\n",
    "client"
   ]
  },
  {
   "cell_type": "code",
   "execution_count": null,
   "id": "ce930327",
   "metadata": {},
   "outputs": [],
   "source": [
    "dataSatDir = '/home/mario/Data/CMSAF/ssims/F16/ORD47662/'\n",
    "#dataSatDir = '/nobackup/users/echeverr/data/cmsaf/ssmis/F16/'\n",
    "fileSatID = 'BTRin20140909000000324SSF1601GL.nc'\n",
    "\n",
    "# ECMWF data:\n",
    "dataECMWFDir ='/home/mario/Data/Covariance_means/MARS_api_data/ERA5_data/datasets/'"
   ]
  },
  {
   "cell_type": "code",
   "execution_count": null,
   "id": "b01106f4",
   "metadata": {},
   "outputs": [],
   "source": [
    "profile_info = xr.open_mfdataset(dataECMWFDir+'profiles*.grib', \n",
    "                                 engine=\"cfgrib\") #, chunks={'time': 50, 'latitude': 50, 'longitude': 200})\n",
    "surface_info = xr.open_mfdataset(dataECMWFDir+'surface*.grib', \n",
    "                                 engine=\"cfgrib\") #, chunks={'time': 50,'latitude': 50, 'longitude': 200})\n",
    "\n",
    "\n",
    "work_ds = profile_info.merge(surface_info).copy()\n",
    "\n",
    "work_ds"
   ]
  }
 ],
 "metadata": {
  "kernelspec": {
   "display_name": "Python 3 (ipykernel)",
   "language": "python",
   "name": "python3"
  },
  "language_info": {
   "codemirror_mode": {
    "name": "ipython",
    "version": 3
   },
   "file_extension": ".py",
   "mimetype": "text/x-python",
   "name": "python",
   "nbconvert_exporter": "python",
   "pygments_lexer": "ipython3",
   "version": "3.9.13"
  }
 },
 "nbformat": 4,
 "nbformat_minor": 5
}
